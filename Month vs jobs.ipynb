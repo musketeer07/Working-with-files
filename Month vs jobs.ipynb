{
 "cells": [
  {
   "cell_type": "code",
   "execution_count": 1,
   "metadata": {},
   "outputs": [],
   "source": [
    "import matplotlib.pyplot as plt \n",
    "import numpy as np\n",
    "import pandas as pd"
   ]
  },
  {
   "cell_type": "code",
   "execution_count": 2,
   "metadata": {},
   "outputs": [
    {
     "data": {
      "text/html": [
       "<div>\n",
       "<style scoped>\n",
       "    .dataframe tbody tr th:only-of-type {\n",
       "        vertical-align: middle;\n",
       "    }\n",
       "\n",
       "    .dataframe tbody tr th {\n",
       "        vertical-align: top;\n",
       "    }\n",
       "\n",
       "    .dataframe thead th {\n",
       "        text-align: right;\n",
       "    }\n",
       "</style>\n",
       "<table border=\"1\" class=\"dataframe\">\n",
       "  <thead>\n",
       "    <tr style=\"text-align: right;\">\n",
       "      <th></th>\n",
       "      <th>Unnamed: 0</th>\n",
       "      <th>Title</th>\n",
       "      <th>location</th>\n",
       "      <th>Posting_date</th>\n",
       "      <th>DESCRIPTION</th>\n",
       "      <th>BASIC QUALIFICATIONS</th>\n",
       "      <th>PREFERRED QUALIFICATIONS</th>\n",
       "    </tr>\n",
       "  </thead>\n",
       "  <tbody>\n",
       "    <tr>\n",
       "      <th>0</th>\n",
       "      <td>0</td>\n",
       "      <td>Software Development Manager</td>\n",
       "      <td>US, WA, Seattle</td>\n",
       "      <td>March  1, 2018</td>\n",
       "      <td>You are an experienced hands-on manager with a...</td>\n",
       "      <td>· Proven track record of hiring and managing h...</td>\n",
       "      <td>· Experience building extremely high volume an...</td>\n",
       "    </tr>\n",
       "    <tr>\n",
       "      <th>1</th>\n",
       "      <td>1</td>\n",
       "      <td>Software Development Engineer</td>\n",
       "      <td>IN, KA, Bangalore</td>\n",
       "      <td>March  1, 2018</td>\n",
       "      <td>Amazon is driven by being “the world’s most cu...</td>\n",
       "      <td>· Bachelor’s Degree in Computer Science or rel...</td>\n",
       "      <td>· Experience building complex software systems...</td>\n",
       "    </tr>\n",
       "    <tr>\n",
       "      <th>2</th>\n",
       "      <td>2</td>\n",
       "      <td>Software Development Engineer</td>\n",
       "      <td>IN, KA, Bangalore</td>\n",
       "      <td>March  1, 2018</td>\n",
       "      <td>Amazon is driven by being “the world’s most cu...</td>\n",
       "      <td>· Bachelor’s Degree in Computer Science or rel...</td>\n",
       "      <td>· Experience building complex software systems...</td>\n",
       "    </tr>\n",
       "    <tr>\n",
       "      <th>3</th>\n",
       "      <td>3</td>\n",
       "      <td>Software Development Engineer - Amazon Lex</td>\n",
       "      <td>US, WA, Seattle</td>\n",
       "      <td>March  1, 2018</td>\n",
       "      <td>Have you ever wondered what it takes to build ...</td>\n",
       "      <td>· Bachelors Degree in Computer Science or a re...</td>\n",
       "      <td>· Masters or PhD in Computer Science· Experien...</td>\n",
       "    </tr>\n",
       "    <tr>\n",
       "      <th>4</th>\n",
       "      <td>4</td>\n",
       "      <td>Software Development Engineer - Amazon Lex</td>\n",
       "      <td>US, WA, Seattle</td>\n",
       "      <td>March  1, 2018</td>\n",
       "      <td>Have you ever wondered what it takes to build ...</td>\n",
       "      <td>· Bachelors Degree in Computer Science or a re...</td>\n",
       "      <td>· Masters or PhD in Computer Science· Experien...</td>\n",
       "    </tr>\n",
       "  </tbody>\n",
       "</table>\n",
       "</div>"
      ],
      "text/plain": [
       "   Unnamed: 0                                       Title            location  \\\n",
       "0           0                Software Development Manager    US, WA, Seattle    \n",
       "1           1               Software Development Engineer  IN, KA, Bangalore    \n",
       "2           2               Software Development Engineer  IN, KA, Bangalore    \n",
       "3           3  Software Development Engineer - Amazon Lex    US, WA, Seattle    \n",
       "4           4  Software Development Engineer - Amazon Lex    US, WA, Seattle    \n",
       "\n",
       "     Posting_date                                        DESCRIPTION  \\\n",
       "0  March  1, 2018  You are an experienced hands-on manager with a...   \n",
       "1  March  1, 2018  Amazon is driven by being “the world’s most cu...   \n",
       "2  March  1, 2018  Amazon is driven by being “the world’s most cu...   \n",
       "3  March  1, 2018  Have you ever wondered what it takes to build ...   \n",
       "4  March  1, 2018  Have you ever wondered what it takes to build ...   \n",
       "\n",
       "                                BASIC QUALIFICATIONS  \\\n",
       "0  · Proven track record of hiring and managing h...   \n",
       "1  · Bachelor’s Degree in Computer Science or rel...   \n",
       "2  · Bachelor’s Degree in Computer Science or rel...   \n",
       "3  · Bachelors Degree in Computer Science or a re...   \n",
       "4  · Bachelors Degree in Computer Science or a re...   \n",
       "\n",
       "                            PREFERRED QUALIFICATIONS  \n",
       "0  · Experience building extremely high volume an...  \n",
       "1  · Experience building complex software systems...  \n",
       "2  · Experience building complex software systems...  \n",
       "3  · Masters or PhD in Computer Science· Experien...  \n",
       "4  · Masters or PhD in Computer Science· Experien...  "
      ]
     },
     "execution_count": 2,
     "metadata": {},
     "output_type": "execute_result"
    }
   ],
   "source": [
    "df = pd.read_csv('amazon_jobs_dataset.csv')\n",
    "df.head()"
   ]
  },
  {
   "cell_type": "code",
   "execution_count": 3,
   "metadata": {},
   "outputs": [],
   "source": [
    "month = df['Posting_date'].str.split(' ',expand=True)[0]"
   ]
  },
  {
   "cell_type": "code",
   "execution_count": 4,
   "metadata": {},
   "outputs": [
    {
     "data": {
      "text/plain": [
       "January      961\n",
       "February     869\n",
       "December     393\n",
       "November     271\n",
       "October      243\n",
       "September    165\n",
       "August       153\n",
       "May          108\n",
       "June          99\n",
       "July          95\n",
       "March         78\n",
       "April         58\n",
       "Name: 0, dtype: int64"
      ]
     },
     "execution_count": 4,
     "metadata": {},
     "output_type": "execute_result"
    }
   ],
   "source": [
    "freq = month.value_counts()\n",
    "freq"
   ]
  },
  {
   "cell_type": "code",
   "execution_count": 6,
   "metadata": {},
   "outputs": [
    {
     "name": "stdout",
     "output_type": "stream",
     "text": [
      "January 961\n",
      "February 869\n",
      "December 393\n",
      "November 271\n",
      "October 243\n",
      "September 165\n",
      "August 153\n",
      "May 108\n",
      "June 99\n",
      "July 95\n",
      "March 78\n",
      "April 58\n"
     ]
    },
    {
     "data": {
      "image/png": "[encoded data removed]",
      "text/plain": [
       "<Figure size 864x576 with 1 Axes>"
      ]
     },
     "metadata": {
      "needs_background": "light"
     },
     "output_type": "display_data"
    }
   ],
   "source": [
    "x= freq.index\n",
    "y = freq\n",
    "\n",
    "for i in range(len(x)):\n",
    "    print(x[i],y[i])\n",
    "\n",
    "plt.figure(figsize=(12,8))\n",
    "plt.bar(x,y)\n",
    "plt.xticks(rotation=40)\n",
    "plt.xlabel('Month')\n",
    "plt.ylabel('No. of Job Openings')\n",
    "plt.title('Month vs Jobs')\n",
    "plt.show()"
   ]
  },
  {
   "cell_type": "code",
   "execution_count": null,
   "metadata": {},
   "outputs": [],
   "source": []
  }
 ],
 "metadata": {
  "kernelspec": {
   "display_name": "Python 3",
   "language": "python",
   "name": "python3"
  },
  "language_info": {
   "codemirror_mode": {
    "name": "ipython",
    "version": 3
   },
   "file_extension": ".py",
   "mimetype": "text/x-python",
   "name": "python",
   "nbconvert_exporter": "python",
   "pygments_lexer": "ipython3",
   "version": "3.7.1"
  }
 },
 "nbformat": 4,
 "nbformat_minor": 2
}
