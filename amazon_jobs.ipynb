{
 "cells": [
  {
   "cell_type": "markdown",
   "metadata": {},
   "source": [
    "### Find number of job openings in Bangalore,IN and in Seattle,US? "
   ]
  },
  {
   "cell_type": "code",
   "execution_count": 1,
   "metadata": {},
   "outputs": [
    {
     "name": "stdout",
     "output_type": "stream",
     "text": [
      "66 1856 "
     ]
    }
   ],
   "source": [
    "import csv\n",
    "with open('amazon_jobs_dataset.csv') as data_obj:\n",
    "    data = csv.DictReader(data_obj,skipinitialspace=True)\n",
    "    data_list = list(data)\n",
    "    \n",
    "    job_location = {}\n",
    "    \n",
    "    for row in data_list:\n",
    "        key = row['location']\n",
    "        \n",
    "        if key in job_location:\n",
    "            job_location[key] +=1\n",
    "            \n",
    "        else:\n",
    "            job_location[key] = 1\n",
    "            \n",
    "            \n",
    "    l=[] \n",
    "    for key,value in job_location.items():\n",
    "        l.append(value)\n",
    "        \n",
    "    l=l[:2]\n",
    "    l.reverse()\n",
    "    \n",
    "    \n",
    "    for i in l:\n",
    "        print(i,end=\" \")\n",
    "    "
   ]
  },
  {
   "cell_type": "markdown",
   "metadata": {},
   "source": [
    "### What are the total number of job openings related to Computer Vision ? "
   ]
  },
  {
   "cell_type": "code",
   "execution_count": 2,
   "metadata": {},
   "outputs": [
    {
     "name": "stdout",
     "output_type": "stream",
     "text": [
      "14\n"
     ]
    }
   ],
   "source": [
    "import csv\n",
    "with open('amazon_jobs_dataset.csv') as data_obj:\n",
    "    data = csv.DictReader(data_obj,skipinitialspace=True)\n",
    "    data_list = list(data)\n",
    "    \n",
    "    count = 0\n",
    "    for row in data_list:\n",
    "        value= row['Title']\n",
    "        if 'computer vision' in value or 'Computer Vision' in value:\n",
    "            count+=1\n",
    "    print(count)   "
   ]
  },
  {
   "cell_type": "markdown",
   "metadata": {},
   "source": [
    "### Find the number of job openings in Canada? "
   ]
  },
  {
   "cell_type": "code",
   "execution_count": 3,
   "metadata": {},
   "outputs": [
    {
     "name": "stdout",
     "output_type": "stream",
     "text": [
      "156\n"
     ]
    }
   ],
   "source": [
    "import csv\n",
    "with open('amazon_jobs_dataset.csv') as data_obj:\n",
    "    data = csv.DictReader(data_obj,skipinitialspace=True)\n",
    "    data_list = list(data)\n",
    "    \n",
    "    country_code = 'CA'\n",
    "    jobs = 0\n",
    "    \n",
    "    for row in data_list:\n",
    "         if (row['location'].split(',')[0]) == country_code:\n",
    "                jobs += 1\n",
    "    print(jobs)"
   ]
  },
  {
   "cell_type": "markdown",
   "metadata": {},
   "source": [
    "### Find the number of job openings are present if applicant have Bachelor degree?"
   ]
  },
  {
   "cell_type": "code",
   "execution_count": 4,
   "metadata": {},
   "outputs": [
    {
     "name": "stdout",
     "output_type": "stream",
     "text": [
      "2961\n"
     ]
    }
   ],
   "source": [
    "import csv\n",
    "with open('amazon_jobs_dataset.csv') as data_obj:\n",
    "    data = csv.DictReader(data_obj,skipinitialspace=True)\n",
    "    data_list = list(data)\n",
    "    \n",
    "    job_opening = 0\n",
    "    \n",
    "    for row in data_list:\n",
    "        value = row['BASIC QUALIFICATIONS']\n",
    "        if 'Bachelor'in value or 'BA' in value or 'BS' in value:\n",
    "            job_opening+=1\n",
    "    print(job_opening)        "
   ]
  },
  {
   "cell_type": "markdown",
   "metadata": {},
   "source": [
    "### Find the month having most job openings in Year 2018 ? "
   ]
  },
  {
   "cell_type": "code",
   "execution_count": 5,
   "metadata": {},
   "outputs": [
    {
     "name": "stdout",
     "output_type": "stream",
     "text": [
      "January 907\n"
     ]
    }
   ],
   "source": [
    "import csv\n",
    "with open('amazon_jobs_dataset.csv') as data_obj:\n",
    "    data = csv.DictReader(data_obj,skipinitialspace=True)\n",
    "    data_list = list(data)\n",
    "    \n",
    "    posting_date=[]\n",
    "    for row in data_list:\n",
    "        posting_date.append(row['Posting_date'])\n",
    "    \n",
    "    def getTheJobYearList(arr,year):\n",
    "        year_list=[]\n",
    "        for i in arr:\n",
    "            if i.split(' ')[-1]==year:\n",
    "                year_list.append(i) \n",
    "        return year_list\n",
    "    year2018=getTheJobYearList(posting_date,'2018') \n",
    "    \n",
    "    def getTheMonthList(arr):\n",
    "        month=[] \n",
    "        for i in arr:\n",
    "            month.append(i.split(' ')[0]) \n",
    "        return month \n",
    "    \n",
    "    def createDictionary(arr): \n",
    "        dictionary={i:0 for i in set(arr)}\n",
    "        for i in arr:\n",
    "            dictionary[i]=dictionary.get(i)+1\n",
    "        return dictionary\n",
    "    dictionary=createDictionary(getTheMonthList(year2018))\n",
    "\n",
    "    def convertDictToList(dictionary):\n",
    "        month_job=[]\n",
    "        for i in dictionary:\n",
    "            month_job.append([dictionary.get(i),i])\n",
    "            month_job.sort(reverse=True) \n",
    "        return month_job \n",
    "    month2018=convertDictToList(dictionary)\n",
    "    print(month2018[0][1],month2018[0][0])"
   ]
  },
  {
   "cell_type": "markdown",
   "metadata": {},
   "source": [
    "### Find the country does Amazon need the most number of Java Developer? "
   ]
  },
  {
   "cell_type": "code",
   "execution_count": 6,
   "metadata": {},
   "outputs": [
    {
     "name": "stdout",
     "output_type": "stream",
     "text": [
      "US 2009\n"
     ]
    }
   ],
   "source": [
    "import csv\n",
    "with open('amazon_jobs_dataset.csv') as data_obj:\n",
    "    data = csv.DictReader(data_obj,skipinitialspace=True)\n",
    "    data_list = list(data)\n",
    "\n",
    "\n",
    "    country_basic_qualifications=[] \n",
    "    for row in data_list:\n",
    "        country_basic_qualifications.append([row['location'],row['BASIC QUALIFICATIONS']])\n",
    "    ## Get Java Developer from the different country \n",
    "    \n",
    "    def getTheJavaDeveloper(arr): \n",
    "        arrlist=[] \n",
    "        for i in arr:\n",
    "            if 'Java' in i[1]:\n",
    "                arrlist.append(i[0].split(',')[0])\n",
    "        return arrlist\n",
    "    java_developer=getTheJavaDeveloper(country_basic_qualifications)\n",
    "    \n",
    "    def createDictionary(arr): \n",
    "        dictionary={i:0 for i in set(arr)} \n",
    "        for i in arr: \n",
    "            dictionary[i]=dictionary.get(i)+1\n",
    "        return dictionary\n",
    "    \n",
    "    def convertDictToList(dictionary): \n",
    "        arrlist=[] \n",
    "        for i in dictionary:\n",
    "            arrlist.append([dictionary.get(i),i])\n",
    "            arrlist.sort(reverse=True)\n",
    "        return arrlist \n",
    "    \n",
    "    java_dict=createDictionary(java_developer)\n",
    "    java_list=convertDictToList(java_dict) \n",
    "    \n",
    "    print(java_list[0][1],java_list[0][0])"
   ]
  },
  {
   "cell_type": "markdown",
   "metadata": {},
   "source": [
    "###  Among Java, C++ and Python, which of the language has more job openings in India for Bachelor Degree Holder?"
   ]
  },
  {
   "cell_type": "code",
   "execution_count": 7,
   "metadata": {},
   "outputs": [
    {
     "name": "stdout",
     "output_type": "stream",
     "text": [
      "Java 103\n"
     ]
    }
   ],
   "source": [
    "import csv\n",
    "with open('amazon_jobs_dataset.csv') as data_obj:\n",
    "    data = csv.DictReader(data_obj,skipinitialspace=True)\n",
    "    data_list = list(data)\n",
    "\n",
    "\n",
    "    python = 0\n",
    "    java = 0\n",
    "    c = 0\n",
    "\n",
    "    for row in data_list:\n",
    "        value = row['location']\n",
    "        degree = row['BASIC QUALIFICATIONS']\n",
    "        \n",
    "        if value.split(',')[0]=='IN':\n",
    "            if 'BS' in degree or 'Bachelor' in degree or 'BA' in degree:\n",
    "                if 'Python' in degree:\n",
    "                    python+=1\n",
    "                if 'Java' in degree:\n",
    "                    java+=1\n",
    "                if 'C++' in degree:\n",
    "                    c+=1\n",
    "if python>java and python>c:\n",
    "    print('Python',python)\n",
    "elif java>python and java >c:\n",
    "    print('Java',java)\n",
    "elif c>python and c>java:\n",
    "    print('C++',c)    \n",
    "        "
   ]
  }
 ],
 "metadata": {
  "kernelspec": {
   "display_name": "Python 3",
   "language": "python",
   "name": "python3"
  },
  "language_info": {
   "codemirror_mode": {
    "name": "ipython",
    "version": 3
   },
   "file_extension": ".py",
   "mimetype": "text/x-python",
   "name": "python",
   "nbconvert_exporter": "python",
   "pygments_lexer": "ipython3",
   "version": "3.7.1"
  }
 },
 "nbformat": 4,
 "nbformat_minor": 2
}
